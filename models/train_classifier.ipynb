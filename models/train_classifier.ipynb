{
  "cells": [
    {
      "cell_type": "markdown",
      "metadata": {
        "id": "RnTfSkfv7hAY"
      },
      "source": [
        "# 1. Importing libraries"
      ]
    },
    {
      "cell_type": "code",
      "execution_count": 4,
      "metadata": {
        "id": "IptOei6g7hAb"
      },
      "outputs": [],
      "source": [
        "import pandas as pd\n",
        "from sqlalchemy import create_engine, text"
      ]
    },
    {
      "cell_type": "code",
      "execution_count": 5,
      "metadata": {
        "id": "ci5n9WvB7hAd",
        "outputId": "1cd23bb9-598c-4871-f1f3-2c1a4c1cd09c",
        "colab": {
          "base_uri": "https://localhost:8080/"
        }
      },
      "outputs": [
        {
          "output_type": "stream",
          "name": "stderr",
          "text": [
            "[nltk_data] Downloading package punkt to /root/nltk_data...\n",
            "[nltk_data]   Package punkt is already up-to-date!\n",
            "[nltk_data] Downloading package wordnet to /root/nltk_data...\n",
            "[nltk_data]   Package wordnet is already up-to-date!\n",
            "[nltk_data] Downloading package averaged_perceptron_tagger to\n",
            "[nltk_data]     /root/nltk_data...\n",
            "[nltk_data]   Package averaged_perceptron_tagger is already up-to-\n",
            "[nltk_data]       date!\n",
            "[nltk_data] Downloading package omw-1.4 to /root/nltk_data...\n",
            "[nltk_data]   Package omw-1.4 is already up-to-date!\n"
          ]
        }
      ],
      "source": [
        "import re\n",
        "import nltk\n",
        "nltk.download(['punkt', 'wordnet', 'averaged_perceptron_tagger', 'omw-1.4'])\n",
        "\n",
        "from nltk.tokenize import word_tokenize\n",
        "from nltk.stem import WordNetLemmatizer"
      ]
    },
    {
      "cell_type": "code",
      "execution_count": 6,
      "metadata": {
        "id": "0U5_Yu1G7hAe"
      },
      "outputs": [],
      "source": [
        "from sklearn.pipeline import Pipeline, FeatureUnion\n",
        "from sklearn.model_selection import train_test_split\n",
        "from sklearn.feature_extraction.text import CountVectorizer, TfidfTransformer\n",
        "from sklearn.ensemble import RandomForestClassifier\n",
        "from sklearn.multioutput import MultiOutputClassifier\n",
        "from sklearn.svm import SVC"
      ]
    },
    {
      "cell_type": "code",
      "execution_count": 7,
      "metadata": {
        "id": "xU4K8Noz7hAf"
      },
      "outputs": [],
      "source": [
        "from sklearn.metrics import classification_report, accuracy_score, precision_score, recall_score, f1_score, make_scorer\n",
        "from sklearn.model_selection import GridSearchCV\n",
        "from sklearn.base import BaseEstimator,TransformerMixin"
      ]
    },
    {
      "cell_type": "markdown",
      "source": [
        "# 2. Loading data"
      ],
      "metadata": {
        "id": "TrYtz04C87rY"
      }
    },
    {
      "cell_type": "code",
      "execution_count": 8,
      "metadata": {
        "id": "KxcUeF9r7hAh",
        "outputId": "cbfb690d-6d14-443d-d257-76b2d6cb4669",
        "colab": {
          "base_uri": "https://localhost:8080/",
          "height": 699
        }
      },
      "outputs": [
        {
          "output_type": "execute_result",
          "data": {
            "text/plain": [
              "   id                                            message  \\\n",
              "0   2  Weather update - a cold front from Cuba that c...   \n",
              "1   7            Is the Hurricane over or is it not over   \n",
              "2   8                    Looking for someone but no name   \n",
              "3   9  UN reports Leogane 80-90 destroyed. Only Hospi...   \n",
              "4  12  says: west side of Haiti, rest of the country ...   \n",
              "\n",
              "                                            original   genre  related  \\\n",
              "0  Un front froid se retrouve sur Cuba ce matin. ...  direct        1   \n",
              "1                 Cyclone nan fini osinon li pa fini  direct        1   \n",
              "2  Patnm, di Maryani relem pou li banm nouvel li ...  direct        1   \n",
              "3  UN reports Leogane 80-90 destroyed. Only Hospi...  direct        1   \n",
              "4  facade ouest d Haiti et le reste du pays aujou...  direct        1   \n",
              "\n",
              "   request  offer  aid_related  medical_help  medical_products  ...  \\\n",
              "0        0      0            0             0                 0  ...   \n",
              "1        0      0            1             0                 0  ...   \n",
              "2        0      0            0             0                 0  ...   \n",
              "3        1      0            1             0                 1  ...   \n",
              "4        0      0            0             0                 0  ...   \n",
              "\n",
              "   aid_centers  other_infrastructure  weather_related  floods  storm  fire  \\\n",
              "0            0                     0                0       0      0     0   \n",
              "1            0                     0                1       0      1     0   \n",
              "2            0                     0                0       0      0     0   \n",
              "3            0                     0                0       0      0     0   \n",
              "4            0                     0                0       0      0     0   \n",
              "\n",
              "   earthquake  cold  other_weather  direct_report  \n",
              "0           0     0              0              0  \n",
              "1           0     0              0              0  \n",
              "2           0     0              0              0  \n",
              "3           0     0              0              0  \n",
              "4           0     0              0              0  \n",
              "\n",
              "[5 rows x 40 columns]"
            ],
            "text/html": [
              "\n",
              "  <div id=\"df-abaacedb-f746-4e4f-9e9c-1d77c114d70e\">\n",
              "    <div class=\"colab-df-container\">\n",
              "      <div>\n",
              "<style scoped>\n",
              "    .dataframe tbody tr th:only-of-type {\n",
              "        vertical-align: middle;\n",
              "    }\n",
              "\n",
              "    .dataframe tbody tr th {\n",
              "        vertical-align: top;\n",
              "    }\n",
              "\n",
              "    .dataframe thead th {\n",
              "        text-align: right;\n",
              "    }\n",
              "</style>\n",
              "<table border=\"1\" class=\"dataframe\">\n",
              "  <thead>\n",
              "    <tr style=\"text-align: right;\">\n",
              "      <th></th>\n",
              "      <th>id</th>\n",
              "      <th>message</th>\n",
              "      <th>original</th>\n",
              "      <th>genre</th>\n",
              "      <th>related</th>\n",
              "      <th>request</th>\n",
              "      <th>offer</th>\n",
              "      <th>aid_related</th>\n",
              "      <th>medical_help</th>\n",
              "      <th>medical_products</th>\n",
              "      <th>...</th>\n",
              "      <th>aid_centers</th>\n",
              "      <th>other_infrastructure</th>\n",
              "      <th>weather_related</th>\n",
              "      <th>floods</th>\n",
              "      <th>storm</th>\n",
              "      <th>fire</th>\n",
              "      <th>earthquake</th>\n",
              "      <th>cold</th>\n",
              "      <th>other_weather</th>\n",
              "      <th>direct_report</th>\n",
              "    </tr>\n",
              "  </thead>\n",
              "  <tbody>\n",
              "    <tr>\n",
              "      <th>0</th>\n",
              "      <td>2</td>\n",
              "      <td>Weather update - a cold front from Cuba that c...</td>\n",
              "      <td>Un front froid se retrouve sur Cuba ce matin. ...</td>\n",
              "      <td>direct</td>\n",
              "      <td>1</td>\n",
              "      <td>0</td>\n",
              "      <td>0</td>\n",
              "      <td>0</td>\n",
              "      <td>0</td>\n",
              "      <td>0</td>\n",
              "      <td>...</td>\n",
              "      <td>0</td>\n",
              "      <td>0</td>\n",
              "      <td>0</td>\n",
              "      <td>0</td>\n",
              "      <td>0</td>\n",
              "      <td>0</td>\n",
              "      <td>0</td>\n",
              "      <td>0</td>\n",
              "      <td>0</td>\n",
              "      <td>0</td>\n",
              "    </tr>\n",
              "    <tr>\n",
              "      <th>1</th>\n",
              "      <td>7</td>\n",
              "      <td>Is the Hurricane over or is it not over</td>\n",
              "      <td>Cyclone nan fini osinon li pa fini</td>\n",
              "      <td>direct</td>\n",
              "      <td>1</td>\n",
              "      <td>0</td>\n",
              "      <td>0</td>\n",
              "      <td>1</td>\n",
              "      <td>0</td>\n",
              "      <td>0</td>\n",
              "      <td>...</td>\n",
              "      <td>0</td>\n",
              "      <td>0</td>\n",
              "      <td>1</td>\n",
              "      <td>0</td>\n",
              "      <td>1</td>\n",
              "      <td>0</td>\n",
              "      <td>0</td>\n",
              "      <td>0</td>\n",
              "      <td>0</td>\n",
              "      <td>0</td>\n",
              "    </tr>\n",
              "    <tr>\n",
              "      <th>2</th>\n",
              "      <td>8</td>\n",
              "      <td>Looking for someone but no name</td>\n",
              "      <td>Patnm, di Maryani relem pou li banm nouvel li ...</td>\n",
              "      <td>direct</td>\n",
              "      <td>1</td>\n",
              "      <td>0</td>\n",
              "      <td>0</td>\n",
              "      <td>0</td>\n",
              "      <td>0</td>\n",
              "      <td>0</td>\n",
              "      <td>...</td>\n",
              "      <td>0</td>\n",
              "      <td>0</td>\n",
              "      <td>0</td>\n",
              "      <td>0</td>\n",
              "      <td>0</td>\n",
              "      <td>0</td>\n",
              "      <td>0</td>\n",
              "      <td>0</td>\n",
              "      <td>0</td>\n",
              "      <td>0</td>\n",
              "    </tr>\n",
              "    <tr>\n",
              "      <th>3</th>\n",
              "      <td>9</td>\n",
              "      <td>UN reports Leogane 80-90 destroyed. Only Hospi...</td>\n",
              "      <td>UN reports Leogane 80-90 destroyed. Only Hospi...</td>\n",
              "      <td>direct</td>\n",
              "      <td>1</td>\n",
              "      <td>1</td>\n",
              "      <td>0</td>\n",
              "      <td>1</td>\n",
              "      <td>0</td>\n",
              "      <td>1</td>\n",
              "      <td>...</td>\n",
              "      <td>0</td>\n",
              "      <td>0</td>\n",
              "      <td>0</td>\n",
              "      <td>0</td>\n",
              "      <td>0</td>\n",
              "      <td>0</td>\n",
              "      <td>0</td>\n",
              "      <td>0</td>\n",
              "      <td>0</td>\n",
              "      <td>0</td>\n",
              "    </tr>\n",
              "    <tr>\n",
              "      <th>4</th>\n",
              "      <td>12</td>\n",
              "      <td>says: west side of Haiti, rest of the country ...</td>\n",
              "      <td>facade ouest d Haiti et le reste du pays aujou...</td>\n",
              "      <td>direct</td>\n",
              "      <td>1</td>\n",
              "      <td>0</td>\n",
              "      <td>0</td>\n",
              "      <td>0</td>\n",
              "      <td>0</td>\n",
              "      <td>0</td>\n",
              "      <td>...</td>\n",
              "      <td>0</td>\n",
              "      <td>0</td>\n",
              "      <td>0</td>\n",
              "      <td>0</td>\n",
              "      <td>0</td>\n",
              "      <td>0</td>\n",
              "      <td>0</td>\n",
              "      <td>0</td>\n",
              "      <td>0</td>\n",
              "      <td>0</td>\n",
              "    </tr>\n",
              "  </tbody>\n",
              "</table>\n",
              "<p>5 rows × 40 columns</p>\n",
              "</div>\n",
              "      <button class=\"colab-df-convert\" onclick=\"convertToInteractive('df-abaacedb-f746-4e4f-9e9c-1d77c114d70e')\"\n",
              "              title=\"Convert this dataframe to an interactive table.\"\n",
              "              style=\"display:none;\">\n",
              "        \n",
              "  <svg xmlns=\"http://www.w3.org/2000/svg\" height=\"24px\"viewBox=\"0 0 24 24\"\n",
              "       width=\"24px\">\n",
              "    <path d=\"M0 0h24v24H0V0z\" fill=\"none\"/>\n",
              "    <path d=\"M18.56 5.44l.94 2.06.94-2.06 2.06-.94-2.06-.94-.94-2.06-.94 2.06-2.06.94zm-11 1L8.5 8.5l.94-2.06 2.06-.94-2.06-.94L8.5 2.5l-.94 2.06-2.06.94zm10 10l.94 2.06.94-2.06 2.06-.94-2.06-.94-.94-2.06-.94 2.06-2.06.94z\"/><path d=\"M17.41 7.96l-1.37-1.37c-.4-.4-.92-.59-1.43-.59-.52 0-1.04.2-1.43.59L10.3 9.45l-7.72 7.72c-.78.78-.78 2.05 0 2.83L4 21.41c.39.39.9.59 1.41.59.51 0 1.02-.2 1.41-.59l7.78-7.78 2.81-2.81c.8-.78.8-2.07 0-2.86zM5.41 20L4 18.59l7.72-7.72 1.47 1.35L5.41 20z\"/>\n",
              "  </svg>\n",
              "      </button>\n",
              "      \n",
              "  <style>\n",
              "    .colab-df-container {\n",
              "      display:flex;\n",
              "      flex-wrap:wrap;\n",
              "      gap: 12px;\n",
              "    }\n",
              "\n",
              "    .colab-df-convert {\n",
              "      background-color: #E8F0FE;\n",
              "      border: none;\n",
              "      border-radius: 50%;\n",
              "      cursor: pointer;\n",
              "      display: none;\n",
              "      fill: #1967D2;\n",
              "      height: 32px;\n",
              "      padding: 0 0 0 0;\n",
              "      width: 32px;\n",
              "    }\n",
              "\n",
              "    .colab-df-convert:hover {\n",
              "      background-color: #E2EBFA;\n",
              "      box-shadow: 0px 1px 2px rgba(60, 64, 67, 0.3), 0px 1px 3px 1px rgba(60, 64, 67, 0.15);\n",
              "      fill: #174EA6;\n",
              "    }\n",
              "\n",
              "    [theme=dark] .colab-df-convert {\n",
              "      background-color: #3B4455;\n",
              "      fill: #D2E3FC;\n",
              "    }\n",
              "\n",
              "    [theme=dark] .colab-df-convert:hover {\n",
              "      background-color: #434B5C;\n",
              "      box-shadow: 0px 1px 3px 1px rgba(0, 0, 0, 0.15);\n",
              "      filter: drop-shadow(0px 1px 2px rgba(0, 0, 0, 0.3));\n",
              "      fill: #FFFFFF;\n",
              "    }\n",
              "  </style>\n",
              "\n",
              "      <script>\n",
              "        const buttonEl =\n",
              "          document.querySelector('#df-abaacedb-f746-4e4f-9e9c-1d77c114d70e button.colab-df-convert');\n",
              "        buttonEl.style.display =\n",
              "          google.colab.kernel.accessAllowed ? 'block' : 'none';\n",
              "\n",
              "        async function convertToInteractive(key) {\n",
              "          const element = document.querySelector('#df-abaacedb-f746-4e4f-9e9c-1d77c114d70e');\n",
              "          const dataTable =\n",
              "            await google.colab.kernel.invokeFunction('convertToInteractive',\n",
              "                                                     [key], {});\n",
              "          if (!dataTable) return;\n",
              "\n",
              "          const docLinkHtml = 'Like what you see? Visit the ' +\n",
              "            '<a target=\"_blank\" href=https://colab.research.google.com/notebooks/data_table.ipynb>data table notebook</a>'\n",
              "            + ' to learn more about interactive tables.';\n",
              "          element.innerHTML = '';\n",
              "          dataTable['output_type'] = 'display_data';\n",
              "          await google.colab.output.renderOutput(dataTable, element);\n",
              "          const docLink = document.createElement('div');\n",
              "          docLink.innerHTML = docLinkHtml;\n",
              "          element.appendChild(docLink);\n",
              "        }\n",
              "      </script>\n",
              "    </div>\n",
              "  </div>\n",
              "  "
            ]
          },
          "metadata": {},
          "execution_count": 8
        }
      ],
      "source": [
        "# load data from database\n",
        "sql_path = r'data/DisasterResponse'\n",
        "engine = create_engine('sqlite:///' + sql_path)\n",
        "query = 'SELECT * FROM response'\n",
        "\n",
        "df = pd.read_sql_query(sql=text(query), con=engine.connect())\n",
        "df.head()"
      ]
    },
    {
      "cell_type": "code",
      "execution_count": 9,
      "metadata": {
        "id": "fSmi9rWX7hAh"
      },
      "outputs": [],
      "source": [
        "# Split input and output\n",
        "X = df['message']\n",
        "y = df.iloc[:, 4:]"
      ]
    },
    {
      "cell_type": "markdown",
      "metadata": {
        "id": "lidHJB-S7hAh"
      },
      "source": [
        "# 2. Write a tokenization function to process the text data"
      ]
    },
    {
      "cell_type": "code",
      "execution_count": 12,
      "metadata": {
        "id": "V_Cq3sKu7hAi"
      },
      "outputs": [],
      "source": [
        "def tokenize(text):\n",
        "    url_regex = 'http[s]?://(?:[a-zA-Z]|[0-9]|[$-_@.&+]|[!*\\(\\),]|(?:%[0-9a-fA-F][0-9a-fA-F]))+'\n",
        "    \n",
        "    # get list of all urls using regex\n",
        "    detected_urls = re.findall(url_regex, text)\n",
        "    \n",
        "    # replace each url in text string with placeholder\n",
        "    for url in detected_urls:\n",
        "        text = text.replace(url, 'urlplaceholder')\n",
        "\n",
        "    # tokenize text\n",
        "    tokens = word_tokenize(text)\n",
        "    \n",
        "    # initiate lemmatizer\n",
        "    lemmatizer = WordNetLemmatizer()\n",
        "\n",
        "    # iterate through each token\n",
        "    clean_tokens = []\n",
        "    for tok in tokens:\n",
        "        # lemmatize, normalize case, and remove leading/trailing white space\n",
        "        clean_tok = lemmatizer.lemmatize(tok).lower().strip()\n",
        "        clean_tokens.append(clean_tok)\n",
        "\n",
        "    return clean_tokens"
      ]
    },
    {
      "cell_type": "markdown",
      "metadata": {
        "id": "1xkmlaoS7hAl"
      },
      "source": [
        "# 3. Traing/Testing"
      ]
    },
    {
      "cell_type": "code",
      "source": [
        "# Split the dataset\n",
        "X_train, X_test, y_train, y_test = train_test_split(X, y, test_size=0.2)"
      ],
      "metadata": {
        "id": "AzVySb0Y80i2"
      },
      "execution_count": 13,
      "outputs": []
    },
    {
      "cell_type": "code",
      "execution_count": 14,
      "metadata": {
        "id": "FhByuwAd7hAm"
      },
      "outputs": [],
      "source": [
        "# Build a machine learning pipeline\n",
        "pipeline = Pipeline([\n",
        "    ('vect', CountVectorizer(tokenizer=tokenize)),\n",
        "    ('tfidf', TfidfTransformer()),\n",
        "    ('clf', MultiOutputClassifier(RandomForestClassifier(verbose=True)))\n",
        "])"
      ]
    },
    {
      "cell_type": "code",
      "execution_count": 15,
      "metadata": {
        "id": "OpJU2AI67hAm",
        "outputId": "8f55ae8a-6547-4c05-a979-25f68016fa66",
        "colab": {
          "base_uri": "https://localhost:8080/",
          "height": 245
        }
      },
      "outputs": [
        {
          "output_type": "stream",
          "name": "stderr",
          "text": [
            "[Parallel(n_jobs=1)]: Done 100 out of 100 | elapsed:   39.2s finished\n"
          ]
        },
        {
          "output_type": "execute_result",
          "data": {
            "text/plain": [
              "Pipeline(steps=[('vect',\n",
              "                 CountVectorizer(tokenizer=<function tokenize at 0x7f927d2819d0>)),\n",
              "                ('tfidf', TfidfTransformer()),\n",
              "                ('clf',\n",
              "                 MultiOutputClassifier(estimator=RandomForestClassifier(verbose=True)))])"
            ],
            "text/html": [
              "<style>#sk-container-id-1 {color: black;background-color: white;}#sk-container-id-1 pre{padding: 0;}#sk-container-id-1 div.sk-toggleable {background-color: white;}#sk-container-id-1 label.sk-toggleable__label {cursor: pointer;display: block;width: 100%;margin-bottom: 0;padding: 0.3em;box-sizing: border-box;text-align: center;}#sk-container-id-1 label.sk-toggleable__label-arrow:before {content: \"▸\";float: left;margin-right: 0.25em;color: #696969;}#sk-container-id-1 label.sk-toggleable__label-arrow:hover:before {color: black;}#sk-container-id-1 div.sk-estimator:hover label.sk-toggleable__label-arrow:before {color: black;}#sk-container-id-1 div.sk-toggleable__content {max-height: 0;max-width: 0;overflow: hidden;text-align: left;background-color: #f0f8ff;}#sk-container-id-1 div.sk-toggleable__content pre {margin: 0.2em;color: black;border-radius: 0.25em;background-color: #f0f8ff;}#sk-container-id-1 input.sk-toggleable__control:checked~div.sk-toggleable__content {max-height: 200px;max-width: 100%;overflow: auto;}#sk-container-id-1 input.sk-toggleable__control:checked~label.sk-toggleable__label-arrow:before {content: \"▾\";}#sk-container-id-1 div.sk-estimator input.sk-toggleable__control:checked~label.sk-toggleable__label {background-color: #d4ebff;}#sk-container-id-1 div.sk-label input.sk-toggleable__control:checked~label.sk-toggleable__label {background-color: #d4ebff;}#sk-container-id-1 input.sk-hidden--visually {border: 0;clip: rect(1px 1px 1px 1px);clip: rect(1px, 1px, 1px, 1px);height: 1px;margin: -1px;overflow: hidden;padding: 0;position: absolute;width: 1px;}#sk-container-id-1 div.sk-estimator {font-family: monospace;background-color: #f0f8ff;border: 1px dotted black;border-radius: 0.25em;box-sizing: border-box;margin-bottom: 0.5em;}#sk-container-id-1 div.sk-estimator:hover {background-color: #d4ebff;}#sk-container-id-1 div.sk-parallel-item::after {content: \"\";width: 100%;border-bottom: 1px solid gray;flex-grow: 1;}#sk-container-id-1 div.sk-label:hover label.sk-toggleable__label {background-color: #d4ebff;}#sk-container-id-1 div.sk-serial::before {content: \"\";position: absolute;border-left: 1px solid gray;box-sizing: border-box;top: 0;bottom: 0;left: 50%;z-index: 0;}#sk-container-id-1 div.sk-serial {display: flex;flex-direction: column;align-items: center;background-color: white;padding-right: 0.2em;padding-left: 0.2em;position: relative;}#sk-container-id-1 div.sk-item {position: relative;z-index: 1;}#sk-container-id-1 div.sk-parallel {display: flex;align-items: stretch;justify-content: center;background-color: white;position: relative;}#sk-container-id-1 div.sk-item::before, #sk-container-id-1 div.sk-parallel-item::before {content: \"\";position: absolute;border-left: 1px solid gray;box-sizing: border-box;top: 0;bottom: 0;left: 50%;z-index: -1;}#sk-container-id-1 div.sk-parallel-item {display: flex;flex-direction: column;z-index: 1;position: relative;background-color: white;}#sk-container-id-1 div.sk-parallel-item:first-child::after {align-self: flex-end;width: 50%;}#sk-container-id-1 div.sk-parallel-item:last-child::after {align-self: flex-start;width: 50%;}#sk-container-id-1 div.sk-parallel-item:only-child::after {width: 0;}#sk-container-id-1 div.sk-dashed-wrapped {border: 1px dashed gray;margin: 0 0.4em 0.5em 0.4em;box-sizing: border-box;padding-bottom: 0.4em;background-color: white;}#sk-container-id-1 div.sk-label label {font-family: monospace;font-weight: bold;display: inline-block;line-height: 1.2em;}#sk-container-id-1 div.sk-label-container {text-align: center;}#sk-container-id-1 div.sk-container {/* jupyter's `normalize.less` sets `[hidden] { display: none; }` but bootstrap.min.css set `[hidden] { display: none !important; }` so we also need the `!important` here to be able to override the default hidden behavior on the sphinx rendered scikit-learn.org. See: https://github.com/scikit-learn/scikit-learn/issues/21755 */display: inline-block !important;position: relative;}#sk-container-id-1 div.sk-text-repr-fallback {display: none;}</style><div id=\"sk-container-id-1\" class=\"sk-top-container\"><div class=\"sk-text-repr-fallback\"><pre>Pipeline(steps=[(&#x27;vect&#x27;,\n",
              "                 CountVectorizer(tokenizer=&lt;function tokenize at 0x7f927d2819d0&gt;)),\n",
              "                (&#x27;tfidf&#x27;, TfidfTransformer()),\n",
              "                (&#x27;clf&#x27;,\n",
              "                 MultiOutputClassifier(estimator=RandomForestClassifier(verbose=True)))])</pre><b>In a Jupyter environment, please rerun this cell to show the HTML representation or trust the notebook. <br />On GitHub, the HTML representation is unable to render, please try loading this page with nbviewer.org.</b></div><div class=\"sk-container\" hidden><div class=\"sk-item sk-dashed-wrapped\"><div class=\"sk-label-container\"><div class=\"sk-label sk-toggleable\"><input class=\"sk-toggleable__control sk-hidden--visually\" id=\"sk-estimator-id-1\" type=\"checkbox\" ><label for=\"sk-estimator-id-1\" class=\"sk-toggleable__label sk-toggleable__label-arrow\">Pipeline</label><div class=\"sk-toggleable__content\"><pre>Pipeline(steps=[(&#x27;vect&#x27;,\n",
              "                 CountVectorizer(tokenizer=&lt;function tokenize at 0x7f927d2819d0&gt;)),\n",
              "                (&#x27;tfidf&#x27;, TfidfTransformer()),\n",
              "                (&#x27;clf&#x27;,\n",
              "                 MultiOutputClassifier(estimator=RandomForestClassifier(verbose=True)))])</pre></div></div></div><div class=\"sk-serial\"><div class=\"sk-item\"><div class=\"sk-estimator sk-toggleable\"><input class=\"sk-toggleable__control sk-hidden--visually\" id=\"sk-estimator-id-2\" type=\"checkbox\" ><label for=\"sk-estimator-id-2\" class=\"sk-toggleable__label sk-toggleable__label-arrow\">CountVectorizer</label><div class=\"sk-toggleable__content\"><pre>CountVectorizer(tokenizer=&lt;function tokenize at 0x7f927d2819d0&gt;)</pre></div></div></div><div class=\"sk-item\"><div class=\"sk-estimator sk-toggleable\"><input class=\"sk-toggleable__control sk-hidden--visually\" id=\"sk-estimator-id-3\" type=\"checkbox\" ><label for=\"sk-estimator-id-3\" class=\"sk-toggleable__label sk-toggleable__label-arrow\">TfidfTransformer</label><div class=\"sk-toggleable__content\"><pre>TfidfTransformer()</pre></div></div></div><div class=\"sk-item sk-dashed-wrapped\"><div class=\"sk-label-container\"><div class=\"sk-label sk-toggleable\"><input class=\"sk-toggleable__control sk-hidden--visually\" id=\"sk-estimator-id-4\" type=\"checkbox\" ><label for=\"sk-estimator-id-4\" class=\"sk-toggleable__label sk-toggleable__label-arrow\">clf: MultiOutputClassifier</label><div class=\"sk-toggleable__content\"><pre>MultiOutputClassifier(estimator=RandomForestClassifier(verbose=True))</pre></div></div></div><div class=\"sk-parallel\"><div class=\"sk-parallel-item\"><div class=\"sk-item\"><div class=\"sk-label-container\"><div class=\"sk-label sk-toggleable\"><input class=\"sk-toggleable__control sk-hidden--visually\" id=\"sk-estimator-id-5\" type=\"checkbox\" ><label for=\"sk-estimator-id-5\" class=\"sk-toggleable__label sk-toggleable__label-arrow\">estimator: RandomForestClassifier</label><div class=\"sk-toggleable__content\"><pre>RandomForestClassifier(verbose=True)</pre></div></div></div><div class=\"sk-serial\"><div class=\"sk-item\"><div class=\"sk-estimator sk-toggleable\"><input class=\"sk-toggleable__control sk-hidden--visually\" id=\"sk-estimator-id-6\" type=\"checkbox\" ><label for=\"sk-estimator-id-6\" class=\"sk-toggleable__label sk-toggleable__label-arrow\">RandomForestClassifier</label><div class=\"sk-toggleable__content\"><pre>RandomForestClassifier(verbose=True)</pre></div></div></div></div></div></div></div></div></div></div></div></div>"
            ]
          },
          "metadata": {},
          "execution_count": 15
        }
      ],
      "source": [
        "# Training with X_train, y_train\n",
        "pipeline.fit(X_train, y_train)"
      ]
    },
    {
      "cell_type": "code",
      "source": [
        "# Predict X_test\n",
        "y_pred = pipeline.predict(X_test)"
      ],
      "metadata": {
        "id": "mlMEAzMZ95y4"
      },
      "execution_count": null,
      "outputs": []
    },
    {
      "cell_type": "code",
      "source": [
        "# define the function to get the 'acc, f1, precision, recall' table\n",
        "def get_score(y_true, y_pred, target_names):\n",
        "    df = pd.DataFrame()\n",
        "    for i,target in enumerate(target_names):\n",
        "        accuracy = accuracy_score(y_true[:, i], y_pred[:, i])\n",
        "        f1 = f1_score(y_true[:, i], y_pred[:, i], average='weighted')\n",
        "        precision = precision_score(y_true[:, i], y_pred[:, i], average='weighted')\n",
        "        recall = recall_score(y_true[:, i], y_pred[:, i], average='weighted')\n",
        "\n",
        "        df = df.append({'index':target, 'Accuracy':accuracy, 'F1 Score':f1, \n",
        "                        'Precision':precision, 'Recall':recall}, \n",
        "                       ignore_index = True)\n",
        "    return df"
      ],
      "metadata": {
        "id": "032w484hEx5v"
      },
      "execution_count": 17,
      "outputs": []
    },
    {
      "cell_type": "code",
      "source": [
        "# get the test score\n",
        "res = get_score(y_test.values, y_pred, y.columns)\n",
        "display(res)"
      ],
      "metadata": {
        "id": "IRfDfsX1wH5A",
        "outputId": "fdbac12c-cbd1-4496-a685-d07fe7d33300",
        "colab": {
          "base_uri": "https://localhost:8080/",
          "height": 1000
        }
      },
      "execution_count": 18,
      "outputs": [
        {
          "output_type": "stream",
          "name": "stderr",
          "text": [
            "/usr/local/lib/python3.8/dist-packages/sklearn/metrics/_classification.py:1344: UndefinedMetricWarning: Precision is ill-defined and being set to 0.0 in labels with no predicted samples. Use `zero_division` parameter to control this behavior.\n",
            "  _warn_prf(average, modifier, msg_start, len(result))\n",
            "/usr/local/lib/python3.8/dist-packages/sklearn/metrics/_classification.py:1344: UndefinedMetricWarning: Precision is ill-defined and being set to 0.0 in labels with no predicted samples. Use `zero_division` parameter to control this behavior.\n",
            "  _warn_prf(average, modifier, msg_start, len(result))\n",
            "/usr/local/lib/python3.8/dist-packages/sklearn/metrics/_classification.py:1344: UndefinedMetricWarning: Precision is ill-defined and being set to 0.0 in labels with no predicted samples. Use `zero_division` parameter to control this behavior.\n",
            "  _warn_prf(average, modifier, msg_start, len(result))\n",
            "/usr/local/lib/python3.8/dist-packages/sklearn/metrics/_classification.py:1344: UndefinedMetricWarning: Precision is ill-defined and being set to 0.0 in labels with no predicted samples. Use `zero_division` parameter to control this behavior.\n",
            "  _warn_prf(average, modifier, msg_start, len(result))\n"
          ]
        },
        {
          "output_type": "display_data",
          "data": {
            "text/plain": [
              "                     index  Accuracy  F1 Score  Precision    Recall\n",
              "0                  related  0.802632  0.765834   0.787374  0.802632\n",
              "1                  request  0.890160  0.873831   0.889860  0.890160\n",
              "2                    offer  0.994851  0.992284   0.989729  0.994851\n",
              "3              aid_related  0.770786  0.764140   0.774588  0.770786\n",
              "4             medical_help  0.928680  0.897534   0.906804  0.928680\n",
              "5         medical_products  0.948894  0.926963   0.936899  0.948894\n",
              "6        search_and_rescue  0.969870  0.955599   0.941742  0.969870\n",
              "7                 security  0.985126  0.977934   0.970846  0.985126\n",
              "8                 military  0.964531  0.947856   0.948396  0.964531\n",
              "9              child_alone  1.000000  1.000000   1.000000  1.000000\n",
              "10                   water  0.944127  0.925936   0.941422  0.944127\n",
              "11                    food  0.926583  0.913484   0.923106  0.926583\n",
              "12                 shelter  0.930587  0.910949   0.925754  0.930587\n",
              "13                clothing  0.985317  0.979086   0.978738  0.985317\n",
              "14                   money  0.979024  0.969521   0.979464  0.979024\n",
              "15          missing_people  0.989130  0.983725   0.978379  0.989130\n",
              "16                refugees  0.961670  0.943804   0.940765  0.961670\n",
              "17                   death  0.959573  0.943560   0.957863  0.959573\n",
              "18               other_aid  0.865561  0.806093   0.850154  0.865561\n",
              "19  infrastructure_related  0.938978  0.910351   0.883417  0.938978\n",
              "20               transport  0.957094  0.939021   0.946761  0.957094\n",
              "21               buildings  0.955759  0.939423   0.951556  0.955759\n",
              "22             electricity  0.979405  0.969757   0.979829  0.979405\n",
              "23                   tools  0.993516  0.990285   0.987075  0.993516\n",
              "24               hospitals  0.991228  0.987044   0.991305  0.991228\n",
              "25                   shops  0.995423  0.993140   0.990868  0.995423\n",
              "26             aid_centers  0.985507  0.978503   0.971598  0.985507\n",
              "27    other_infrastructure  0.959954  0.940714   0.922230  0.959954\n",
              "28         weather_related  0.861747  0.853428   0.862973  0.861747\n",
              "29                  floods  0.945461  0.933556   0.944918  0.945461\n",
              "30                   storm  0.934973  0.925122   0.928563  0.934973\n",
              "31                    fire  0.986270  0.979638   0.986459  0.986270\n",
              "32              earthquake  0.967391  0.966165   0.966141  0.967391\n",
              "33                    cold  0.980359  0.971848   0.975329  0.980359\n",
              "34           other_weather  0.946224  0.921002   0.938409  0.946224\n",
              "35           direct_report  0.854500  0.827407   0.854807  0.854500"
            ],
            "text/html": [
              "\n",
              "  <div id=\"df-e254e5b3-3e06-4b93-93a9-33574f63365f\">\n",
              "    <div class=\"colab-df-container\">\n",
              "      <div>\n",
              "<style scoped>\n",
              "    .dataframe tbody tr th:only-of-type {\n",
              "        vertical-align: middle;\n",
              "    }\n",
              "\n",
              "    .dataframe tbody tr th {\n",
              "        vertical-align: top;\n",
              "    }\n",
              "\n",
              "    .dataframe thead th {\n",
              "        text-align: right;\n",
              "    }\n",
              "</style>\n",
              "<table border=\"1\" class=\"dataframe\">\n",
              "  <thead>\n",
              "    <tr style=\"text-align: right;\">\n",
              "      <th></th>\n",
              "      <th>index</th>\n",
              "      <th>Accuracy</th>\n",
              "      <th>F1 Score</th>\n",
              "      <th>Precision</th>\n",
              "      <th>Recall</th>\n",
              "    </tr>\n",
              "  </thead>\n",
              "  <tbody>\n",
              "    <tr>\n",
              "      <th>0</th>\n",
              "      <td>related</td>\n",
              "      <td>0.802632</td>\n",
              "      <td>0.765834</td>\n",
              "      <td>0.787374</td>\n",
              "      <td>0.802632</td>\n",
              "    </tr>\n",
              "    <tr>\n",
              "      <th>1</th>\n",
              "      <td>request</td>\n",
              "      <td>0.890160</td>\n",
              "      <td>0.873831</td>\n",
              "      <td>0.889860</td>\n",
              "      <td>0.890160</td>\n",
              "    </tr>\n",
              "    <tr>\n",
              "      <th>2</th>\n",
              "      <td>offer</td>\n",
              "      <td>0.994851</td>\n",
              "      <td>0.992284</td>\n",
              "      <td>0.989729</td>\n",
              "      <td>0.994851</td>\n",
              "    </tr>\n",
              "    <tr>\n",
              "      <th>3</th>\n",
              "      <td>aid_related</td>\n",
              "      <td>0.770786</td>\n",
              "      <td>0.764140</td>\n",
              "      <td>0.774588</td>\n",
              "      <td>0.770786</td>\n",
              "    </tr>\n",
              "    <tr>\n",
              "      <th>4</th>\n",
              "      <td>medical_help</td>\n",
              "      <td>0.928680</td>\n",
              "      <td>0.897534</td>\n",
              "      <td>0.906804</td>\n",
              "      <td>0.928680</td>\n",
              "    </tr>\n",
              "    <tr>\n",
              "      <th>5</th>\n",
              "      <td>medical_products</td>\n",
              "      <td>0.948894</td>\n",
              "      <td>0.926963</td>\n",
              "      <td>0.936899</td>\n",
              "      <td>0.948894</td>\n",
              "    </tr>\n",
              "    <tr>\n",
              "      <th>6</th>\n",
              "      <td>search_and_rescue</td>\n",
              "      <td>0.969870</td>\n",
              "      <td>0.955599</td>\n",
              "      <td>0.941742</td>\n",
              "      <td>0.969870</td>\n",
              "    </tr>\n",
              "    <tr>\n",
              "      <th>7</th>\n",
              "      <td>security</td>\n",
              "      <td>0.985126</td>\n",
              "      <td>0.977934</td>\n",
              "      <td>0.970846</td>\n",
              "      <td>0.985126</td>\n",
              "    </tr>\n",
              "    <tr>\n",
              "      <th>8</th>\n",
              "      <td>military</td>\n",
              "      <td>0.964531</td>\n",
              "      <td>0.947856</td>\n",
              "      <td>0.948396</td>\n",
              "      <td>0.964531</td>\n",
              "    </tr>\n",
              "    <tr>\n",
              "      <th>9</th>\n",
              "      <td>child_alone</td>\n",
              "      <td>1.000000</td>\n",
              "      <td>1.000000</td>\n",
              "      <td>1.000000</td>\n",
              "      <td>1.000000</td>\n",
              "    </tr>\n",
              "    <tr>\n",
              "      <th>10</th>\n",
              "      <td>water</td>\n",
              "      <td>0.944127</td>\n",
              "      <td>0.925936</td>\n",
              "      <td>0.941422</td>\n",
              "      <td>0.944127</td>\n",
              "    </tr>\n",
              "    <tr>\n",
              "      <th>11</th>\n",
              "      <td>food</td>\n",
              "      <td>0.926583</td>\n",
              "      <td>0.913484</td>\n",
              "      <td>0.923106</td>\n",
              "      <td>0.926583</td>\n",
              "    </tr>\n",
              "    <tr>\n",
              "      <th>12</th>\n",
              "      <td>shelter</td>\n",
              "      <td>0.930587</td>\n",
              "      <td>0.910949</td>\n",
              "      <td>0.925754</td>\n",
              "      <td>0.930587</td>\n",
              "    </tr>\n",
              "    <tr>\n",
              "      <th>13</th>\n",
              "      <td>clothing</td>\n",
              "      <td>0.985317</td>\n",
              "      <td>0.979086</td>\n",
              "      <td>0.978738</td>\n",
              "      <td>0.985317</td>\n",
              "    </tr>\n",
              "    <tr>\n",
              "      <th>14</th>\n",
              "      <td>money</td>\n",
              "      <td>0.979024</td>\n",
              "      <td>0.969521</td>\n",
              "      <td>0.979464</td>\n",
              "      <td>0.979024</td>\n",
              "    </tr>\n",
              "    <tr>\n",
              "      <th>15</th>\n",
              "      <td>missing_people</td>\n",
              "      <td>0.989130</td>\n",
              "      <td>0.983725</td>\n",
              "      <td>0.978379</td>\n",
              "      <td>0.989130</td>\n",
              "    </tr>\n",
              "    <tr>\n",
              "      <th>16</th>\n",
              "      <td>refugees</td>\n",
              "      <td>0.961670</td>\n",
              "      <td>0.943804</td>\n",
              "      <td>0.940765</td>\n",
              "      <td>0.961670</td>\n",
              "    </tr>\n",
              "    <tr>\n",
              "      <th>17</th>\n",
              "      <td>death</td>\n",
              "      <td>0.959573</td>\n",
              "      <td>0.943560</td>\n",
              "      <td>0.957863</td>\n",
              "      <td>0.959573</td>\n",
              "    </tr>\n",
              "    <tr>\n",
              "      <th>18</th>\n",
              "      <td>other_aid</td>\n",
              "      <td>0.865561</td>\n",
              "      <td>0.806093</td>\n",
              "      <td>0.850154</td>\n",
              "      <td>0.865561</td>\n",
              "    </tr>\n",
              "    <tr>\n",
              "      <th>19</th>\n",
              "      <td>infrastructure_related</td>\n",
              "      <td>0.938978</td>\n",
              "      <td>0.910351</td>\n",
              "      <td>0.883417</td>\n",
              "      <td>0.938978</td>\n",
              "    </tr>\n",
              "    <tr>\n",
              "      <th>20</th>\n",
              "      <td>transport</td>\n",
              "      <td>0.957094</td>\n",
              "      <td>0.939021</td>\n",
              "      <td>0.946761</td>\n",
              "      <td>0.957094</td>\n",
              "    </tr>\n",
              "    <tr>\n",
              "      <th>21</th>\n",
              "      <td>buildings</td>\n",
              "      <td>0.955759</td>\n",
              "      <td>0.939423</td>\n",
              "      <td>0.951556</td>\n",
              "      <td>0.955759</td>\n",
              "    </tr>\n",
              "    <tr>\n",
              "      <th>22</th>\n",
              "      <td>electricity</td>\n",
              "      <td>0.979405</td>\n",
              "      <td>0.969757</td>\n",
              "      <td>0.979829</td>\n",
              "      <td>0.979405</td>\n",
              "    </tr>\n",
              "    <tr>\n",
              "      <th>23</th>\n",
              "      <td>tools</td>\n",
              "      <td>0.993516</td>\n",
              "      <td>0.990285</td>\n",
              "      <td>0.987075</td>\n",
              "      <td>0.993516</td>\n",
              "    </tr>\n",
              "    <tr>\n",
              "      <th>24</th>\n",
              "      <td>hospitals</td>\n",
              "      <td>0.991228</td>\n",
              "      <td>0.987044</td>\n",
              "      <td>0.991305</td>\n",
              "      <td>0.991228</td>\n",
              "    </tr>\n",
              "    <tr>\n",
              "      <th>25</th>\n",
              "      <td>shops</td>\n",
              "      <td>0.995423</td>\n",
              "      <td>0.993140</td>\n",
              "      <td>0.990868</td>\n",
              "      <td>0.995423</td>\n",
              "    </tr>\n",
              "    <tr>\n",
              "      <th>26</th>\n",
              "      <td>aid_centers</td>\n",
              "      <td>0.985507</td>\n",
              "      <td>0.978503</td>\n",
              "      <td>0.971598</td>\n",
              "      <td>0.985507</td>\n",
              "    </tr>\n",
              "    <tr>\n",
              "      <th>27</th>\n",
              "      <td>other_infrastructure</td>\n",
              "      <td>0.959954</td>\n",
              "      <td>0.940714</td>\n",
              "      <td>0.922230</td>\n",
              "      <td>0.959954</td>\n",
              "    </tr>\n",
              "    <tr>\n",
              "      <th>28</th>\n",
              "      <td>weather_related</td>\n",
              "      <td>0.861747</td>\n",
              "      <td>0.853428</td>\n",
              "      <td>0.862973</td>\n",
              "      <td>0.861747</td>\n",
              "    </tr>\n",
              "    <tr>\n",
              "      <th>29</th>\n",
              "      <td>floods</td>\n",
              "      <td>0.945461</td>\n",
              "      <td>0.933556</td>\n",
              "      <td>0.944918</td>\n",
              "      <td>0.945461</td>\n",
              "    </tr>\n",
              "    <tr>\n",
              "      <th>30</th>\n",
              "      <td>storm</td>\n",
              "      <td>0.934973</td>\n",
              "      <td>0.925122</td>\n",
              "      <td>0.928563</td>\n",
              "      <td>0.934973</td>\n",
              "    </tr>\n",
              "    <tr>\n",
              "      <th>31</th>\n",
              "      <td>fire</td>\n",
              "      <td>0.986270</td>\n",
              "      <td>0.979638</td>\n",
              "      <td>0.986459</td>\n",
              "      <td>0.986270</td>\n",
              "    </tr>\n",
              "    <tr>\n",
              "      <th>32</th>\n",
              "      <td>earthquake</td>\n",
              "      <td>0.967391</td>\n",
              "      <td>0.966165</td>\n",
              "      <td>0.966141</td>\n",
              "      <td>0.967391</td>\n",
              "    </tr>\n",
              "    <tr>\n",
              "      <th>33</th>\n",
              "      <td>cold</td>\n",
              "      <td>0.980359</td>\n",
              "      <td>0.971848</td>\n",
              "      <td>0.975329</td>\n",
              "      <td>0.980359</td>\n",
              "    </tr>\n",
              "    <tr>\n",
              "      <th>34</th>\n",
              "      <td>other_weather</td>\n",
              "      <td>0.946224</td>\n",
              "      <td>0.921002</td>\n",
              "      <td>0.938409</td>\n",
              "      <td>0.946224</td>\n",
              "    </tr>\n",
              "    <tr>\n",
              "      <th>35</th>\n",
              "      <td>direct_report</td>\n",
              "      <td>0.854500</td>\n",
              "      <td>0.827407</td>\n",
              "      <td>0.854807</td>\n",
              "      <td>0.854500</td>\n",
              "    </tr>\n",
              "  </tbody>\n",
              "</table>\n",
              "</div>\n",
              "      <button class=\"colab-df-convert\" onclick=\"convertToInteractive('df-e254e5b3-3e06-4b93-93a9-33574f63365f')\"\n",
              "              title=\"Convert this dataframe to an interactive table.\"\n",
              "              style=\"display:none;\">\n",
              "        \n",
              "  <svg xmlns=\"http://www.w3.org/2000/svg\" height=\"24px\"viewBox=\"0 0 24 24\"\n",
              "       width=\"24px\">\n",
              "    <path d=\"M0 0h24v24H0V0z\" fill=\"none\"/>\n",
              "    <path d=\"M18.56 5.44l.94 2.06.94-2.06 2.06-.94-2.06-.94-.94-2.06-.94 2.06-2.06.94zm-11 1L8.5 8.5l.94-2.06 2.06-.94-2.06-.94L8.5 2.5l-.94 2.06-2.06.94zm10 10l.94 2.06.94-2.06 2.06-.94-2.06-.94-.94-2.06-.94 2.06-2.06.94z\"/><path d=\"M17.41 7.96l-1.37-1.37c-.4-.4-.92-.59-1.43-.59-.52 0-1.04.2-1.43.59L10.3 9.45l-7.72 7.72c-.78.78-.78 2.05 0 2.83L4 21.41c.39.39.9.59 1.41.59.51 0 1.02-.2 1.41-.59l7.78-7.78 2.81-2.81c.8-.78.8-2.07 0-2.86zM5.41 20L4 18.59l7.72-7.72 1.47 1.35L5.41 20z\"/>\n",
              "  </svg>\n",
              "      </button>\n",
              "      \n",
              "  <style>\n",
              "    .colab-df-container {\n",
              "      display:flex;\n",
              "      flex-wrap:wrap;\n",
              "      gap: 12px;\n",
              "    }\n",
              "\n",
              "    .colab-df-convert {\n",
              "      background-color: #E8F0FE;\n",
              "      border: none;\n",
              "      border-radius: 50%;\n",
              "      cursor: pointer;\n",
              "      display: none;\n",
              "      fill: #1967D2;\n",
              "      height: 32px;\n",
              "      padding: 0 0 0 0;\n",
              "      width: 32px;\n",
              "    }\n",
              "\n",
              "    .colab-df-convert:hover {\n",
              "      background-color: #E2EBFA;\n",
              "      box-shadow: 0px 1px 2px rgba(60, 64, 67, 0.3), 0px 1px 3px 1px rgba(60, 64, 67, 0.15);\n",
              "      fill: #174EA6;\n",
              "    }\n",
              "\n",
              "    [theme=dark] .colab-df-convert {\n",
              "      background-color: #3B4455;\n",
              "      fill: #D2E3FC;\n",
              "    }\n",
              "\n",
              "    [theme=dark] .colab-df-convert:hover {\n",
              "      background-color: #434B5C;\n",
              "      box-shadow: 0px 1px 3px 1px rgba(0, 0, 0, 0.15);\n",
              "      filter: drop-shadow(0px 1px 2px rgba(0, 0, 0, 0.3));\n",
              "      fill: #FFFFFF;\n",
              "    }\n",
              "  </style>\n",
              "\n",
              "      <script>\n",
              "        const buttonEl =\n",
              "          document.querySelector('#df-e254e5b3-3e06-4b93-93a9-33574f63365f button.colab-df-convert');\n",
              "        buttonEl.style.display =\n",
              "          google.colab.kernel.accessAllowed ? 'block' : 'none';\n",
              "\n",
              "        async function convertToInteractive(key) {\n",
              "          const element = document.querySelector('#df-e254e5b3-3e06-4b93-93a9-33574f63365f');\n",
              "          const dataTable =\n",
              "            await google.colab.kernel.invokeFunction('convertToInteractive',\n",
              "                                                     [key], {});\n",
              "          if (!dataTable) return;\n",
              "\n",
              "          const docLinkHtml = 'Like what you see? Visit the ' +\n",
              "            '<a target=\"_blank\" href=https://colab.research.google.com/notebooks/data_table.ipynb>data table notebook</a>'\n",
              "            + ' to learn more about interactive tables.';\n",
              "          element.innerHTML = '';\n",
              "          dataTable['output_type'] = 'display_data';\n",
              "          await google.colab.output.renderOutput(dataTable, element);\n",
              "          const docLink = document.createElement('div');\n",
              "          docLink.innerHTML = docLinkHtml;\n",
              "          element.appendChild(docLink);\n",
              "        }\n",
              "      </script>\n",
              "    </div>\n",
              "  </div>\n",
              "  "
            ]
          },
          "metadata": {}
        }
      ]
    },
    {
      "cell_type": "code",
      "source": [
        "# Display the mean score\n",
        "res.mean(numeric_only=True)"
      ],
      "metadata": {
        "id": "pWEYCKWwv7PM",
        "outputId": "12731039-4313-49aa-d070-ae4c368afcfe",
        "colab": {
          "base_uri": "https://localhost:8080/"
        }
      },
      "execution_count": 19,
      "outputs": [
        {
          "output_type": "execute_result",
          "data": {
            "text/plain": [
              "Accuracy     0.945303\n",
              "F1 Score     0.930682\n",
              "Precision    0.936226\n",
              "Recall       0.945303\n",
              "dtype: float64"
            ]
          },
          "metadata": {},
          "execution_count": 19
        }
      ]
    },
    {
      "cell_type": "markdown",
      "metadata": {
        "id": "74A-j1HW7hAo"
      },
      "source": [
        "# 4. Improve model"
      ]
    },
    {
      "cell_type": "code",
      "source": [
        "# A look at the pipeline's parameters\n",
        "pipeline.get_params()"
      ],
      "metadata": {
        "id": "JezXACc2gqHn",
        "outputId": "082d5cba-586f-4475-a781-e75fa2163f9d",
        "colab": {
          "base_uri": "https://localhost:8080/"
        }
      },
      "execution_count": 13,
      "outputs": [
        {
          "output_type": "execute_result",
          "data": {
            "text/plain": [
              "{'memory': None,\n",
              " 'steps': [('vect',\n",
              "   CountVectorizer(tokenizer=<function tokenize at 0x7f7c10880040>)),\n",
              "  ('tfidf', TfidfTransformer()),\n",
              "  ('clf',\n",
              "   MultiOutputClassifier(estimator=RandomForestClassifier(verbose=True)))],\n",
              " 'verbose': False,\n",
              " 'vect': CountVectorizer(tokenizer=<function tokenize at 0x7f7c10880040>),\n",
              " 'tfidf': TfidfTransformer(),\n",
              " 'clf': MultiOutputClassifier(estimator=RandomForestClassifier(verbose=True)),\n",
              " 'vect__analyzer': 'word',\n",
              " 'vect__binary': False,\n",
              " 'vect__decode_error': 'strict',\n",
              " 'vect__dtype': numpy.int64,\n",
              " 'vect__encoding': 'utf-8',\n",
              " 'vect__input': 'content',\n",
              " 'vect__lowercase': True,\n",
              " 'vect__max_df': 1.0,\n",
              " 'vect__max_features': None,\n",
              " 'vect__min_df': 1,\n",
              " 'vect__ngram_range': (1, 1),\n",
              " 'vect__preprocessor': None,\n",
              " 'vect__stop_words': None,\n",
              " 'vect__strip_accents': None,\n",
              " 'vect__token_pattern': '(?u)\\\\b\\\\w\\\\w+\\\\b',\n",
              " 'vect__tokenizer': <function __main__.tokenize(text)>,\n",
              " 'vect__vocabulary': None,\n",
              " 'tfidf__norm': 'l2',\n",
              " 'tfidf__smooth_idf': True,\n",
              " 'tfidf__sublinear_tf': False,\n",
              " 'tfidf__use_idf': True,\n",
              " 'clf__estimator__bootstrap': True,\n",
              " 'clf__estimator__ccp_alpha': 0.0,\n",
              " 'clf__estimator__class_weight': None,\n",
              " 'clf__estimator__criterion': 'gini',\n",
              " 'clf__estimator__max_depth': None,\n",
              " 'clf__estimator__max_features': 'sqrt',\n",
              " 'clf__estimator__max_leaf_nodes': None,\n",
              " 'clf__estimator__max_samples': None,\n",
              " 'clf__estimator__min_impurity_decrease': 0.0,\n",
              " 'clf__estimator__min_samples_leaf': 1,\n",
              " 'clf__estimator__min_samples_split': 2,\n",
              " 'clf__estimator__min_weight_fraction_leaf': 0.0,\n",
              " 'clf__estimator__n_estimators': 100,\n",
              " 'clf__estimator__n_jobs': None,\n",
              " 'clf__estimator__oob_score': False,\n",
              " 'clf__estimator__random_state': None,\n",
              " 'clf__estimator__verbose': True,\n",
              " 'clf__estimator__warm_start': False,\n",
              " 'clf__estimator': RandomForestClassifier(verbose=True),\n",
              " 'clf__n_jobs': None}"
            ]
          },
          "metadata": {},
          "execution_count": 13
        }
      ]
    },
    {
      "cell_type": "code",
      "execution_count": 111,
      "metadata": {
        "id": "5-NObQqE7hAo"
      },
      "outputs": [],
      "source": [
        "# Using grid search to improve the existing model\n",
        "parameters = {'clf__estimator__n_estimators': [50, 100, 150],\n",
        "              'clf__estimator__min_samples_split': [2, 3, 4]}\n",
        "\n",
        "cv = GridSearchCV(pipeline, param_grid=parameters)"
      ]
    },
    {
      "cell_type": "code",
      "execution_count": null,
      "metadata": {
        "id": "CV2z0cA37hAq"
      },
      "outputs": [],
      "source": [
        "# Training with Grid Search\n",
        "cv.fit(X_train, y_train)"
      ]
    },
    {
      "cell_type": "markdown",
      "metadata": {
        "id": "KAyKjJBN7hAr"
      },
      "source": [
        "# 5. Add other features besides the TF-IDF"
      ]
    },
    {
      "cell_type": "code",
      "execution_count": 14,
      "metadata": {
        "id": "DE62iSK17hAs"
      },
      "outputs": [],
      "source": [
        "# Build a custom transformer which will extract the starting verb of a sentence\n",
        "class StartingVerbExtractor(BaseEstimator, TransformerMixin):\n",
        "    \"\"\"\n",
        "    Starting Verb Extractor class\n",
        "    \n",
        "    This class extract the starting verb of a sentence,\n",
        "    creating a new feature for the ML classifier\n",
        "    \"\"\"\n",
        "\n",
        "    def starting_verb(self, text):\n",
        "        sentence_list = nltk.sent_tokenize(text)\n",
        "        for sentence in sentence_list:\n",
        "            pos_tags = nltk.pos_tag(tokenize(sentence))\n",
        "            first_word, first_tag = pos_tags[0]\n",
        "            if first_tag in ['VB', 'VBP'] or first_word == 'RT':\n",
        "                return True\n",
        "        return False\n",
        "\n",
        "    # Given it is a tranformer we can return the self \n",
        "    def fit(self, X, y=None):\n",
        "        return self\n",
        "\n",
        "    def transform(self, X):\n",
        "        X_tagged = pd.Series(X).apply(self.starting_verb)\n",
        "        return pd.DataFrame(X_tagged)"
      ]
    },
    {
      "cell_type": "code",
      "source": [
        "# Create the new pipeline with the starting verb extracter\n",
        "pipeline_2 = Pipeline([\n",
        "    ('features', FeatureUnion([\n",
        "\n",
        "        ('text_pipeline', Pipeline([\n",
        "            ('vect', CountVectorizer(tokenizer=tokenize)),\n",
        "            ('tfidf', TfidfTransformer())\n",
        "        ])),\n",
        "\n",
        "        ('trans', StartingVerbExtractor())\n",
        "    ])),\n",
        "\n",
        "    ('clf', MultiOutputClassifier(RandomForestClassifier(verbose=True)))\n",
        "])"
      ],
      "metadata": {
        "id": "MVRFhy_rwkcv"
      },
      "execution_count": 126,
      "outputs": []
    },
    {
      "cell_type": "code",
      "source": [
        "pipeline_2.fit(X_train, y_train)"
      ],
      "metadata": {
        "id": "D2cOPeFixHQJ"
      },
      "execution_count": null,
      "outputs": []
    },
    {
      "cell_type": "code",
      "source": [
        "y_pred_2 = pipeline_2.predict(X_test)"
      ],
      "metadata": {
        "id": "8TwZmCdjxK07"
      },
      "execution_count": null,
      "outputs": []
    },
    {
      "cell_type": "code",
      "source": [
        "get_score(y_test.values, y_pred_2, y.columns).mean(numeric_only=True)"
      ],
      "metadata": {
        "id": "hO3Dl9S4xfGj",
        "outputId": "320e6ed4-fee2-4387-d66f-95546a840814",
        "colab": {
          "base_uri": "https://localhost:8080/"
        }
      },
      "execution_count": 130,
      "outputs": [
        {
          "output_type": "stream",
          "name": "stderr",
          "text": [
            "/usr/local/lib/python3.8/dist-packages/sklearn/metrics/_classification.py:1344: UndefinedMetricWarning: Precision is ill-defined and being set to 0.0 in labels with no predicted samples. Use `zero_division` parameter to control this behavior.\n",
            "  _warn_prf(average, modifier, msg_start, len(result))\n",
            "/usr/local/lib/python3.8/dist-packages/sklearn/metrics/_classification.py:1344: UndefinedMetricWarning: Precision is ill-defined and being set to 0.0 in labels with no predicted samples. Use `zero_division` parameter to control this behavior.\n",
            "  _warn_prf(average, modifier, msg_start, len(result))\n",
            "/usr/local/lib/python3.8/dist-packages/sklearn/metrics/_classification.py:1344: UndefinedMetricWarning: Precision is ill-defined and being set to 0.0 in labels with no predicted samples. Use `zero_division` parameter to control this behavior.\n",
            "  _warn_prf(average, modifier, msg_start, len(result))\n",
            "/usr/local/lib/python3.8/dist-packages/sklearn/metrics/_classification.py:1344: UndefinedMetricWarning: Precision is ill-defined and being set to 0.0 in labels with no predicted samples. Use `zero_division` parameter to control this behavior.\n",
            "  _warn_prf(average, modifier, msg_start, len(result))\n",
            "<ipython-input-130-ad2dbd7b701e>:1: FutureWarning: Dropping of nuisance columns in DataFrame reductions (with 'numeric_only=None') is deprecated; in a future version this will raise TypeError.  Select only valid columns before calling the reduction.\n",
            "  get_score(y_test.values, y_pred_2, y.columns).mean()\n"
          ]
        },
        {
          "output_type": "execute_result",
          "data": {
            "text/plain": [
              "Accuracy     0.945965\n",
              "F1 Score     0.931864\n",
              "Precision    0.936558\n",
              "Recall       0.945965\n",
              "dtype: float64"
            ]
          },
          "metadata": {},
          "execution_count": 130
        }
      ]
    },
    {
      "cell_type": "markdown",
      "source": [
        "# 6. Try SVM for classification"
      ],
      "metadata": {
        "id": "ZU9epDZaiziE"
      }
    },
    {
      "cell_type": "code",
      "source": [
        "pipeline_3 = Pipeline([\n",
        "    ('vect', CountVectorizer(tokenizer=tokenize)),\n",
        "    ('tfidf', TfidfTransformer()),\n",
        "    ('clf', MultiOutputClassifier(SVC(kernel='poly', probability=True, verbose=True)))\n",
        "])"
      ],
      "metadata": {
        "id": "hRgHqDCA1SAy"
      },
      "execution_count": 15,
      "outputs": []
    },
    {
      "cell_type": "code",
      "source": [
        "pipeline_3.fit(X_train, y_train)"
      ],
      "metadata": {
        "id": "mo58CiwM1go8"
      },
      "execution_count": null,
      "outputs": []
    },
    {
      "cell_type": "code",
      "source": [
        "y_pred_3 = pipeline_3.predict(X_test)"
      ],
      "metadata": {
        "id": "RyOoqsNl1kNc"
      },
      "execution_count": null,
      "outputs": []
    },
    {
      "cell_type": "code",
      "source": [
        "get_score(y_test.values, y_pred_3, y.columns).mean()"
      ],
      "metadata": {
        "id": "HEMG_pG_1moj"
      },
      "execution_count": null,
      "outputs": []
    },
    {
      "cell_type": "markdown",
      "metadata": {
        "id": "E52wO2ww7hAt"
      },
      "source": [
        "# 7. Export your model as a pickle file"
      ]
    },
    {
      "cell_type": "code",
      "execution_count": 20,
      "metadata": {
        "id": "V7Ab8izL7hAv",
        "outputId": "40520e9c-097f-4e25-ce00-c20551efe0d1",
        "colab": {
          "base_uri": "https://localhost:8080/"
        }
      },
      "outputs": [
        {
          "output_type": "execute_result",
          "data": {
            "text/plain": [
              "['model.joblib']"
            ]
          },
          "metadata": {},
          "execution_count": 20
        }
      ],
      "source": [
        "import joblib\n",
        "joblib.dump(pipeline, 'model.joblib')"
      ]
    }
  ],
  "metadata": {
    "kernelspec": {
      "display_name": "Python 3 (ipykernel)",
      "language": "python",
      "name": "python3"
    },
    "language_info": {
      "codemirror_mode": {
        "name": "ipython",
        "version": 3
      },
      "file_extension": ".py",
      "mimetype": "text/x-python",
      "name": "python",
      "nbconvert_exporter": "python",
      "pygments_lexer": "ipython3",
      "version": "3.11.2"
    },
    "colab": {
      "provenance": [],
      "toc_visible": true
    },
    "gpuClass": "standard"
  },
  "nbformat": 4,
  "nbformat_minor": 0
}